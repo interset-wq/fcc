{
 "cells": [
  {
   "cell_type": "markdown",
   "id": "1a7b247b-1d7f-4055-86a0-1c200f3fa865",
   "metadata": {},
   "source": [
    "# Learn Functions and Graphing 函数和图像\n",
    "\n",
    "This unit will teach you about math functions.\n",
    "\n",
    "matplotlib不能显示中文字体\n",
    "\n",
    "code 1 根据函数关系得到很多点"
   ]
  },
  {
   "cell_type": "code",
   "execution_count": null,
   "id": "bbad3743-b072-4b91-9d7e-449ffcf3188e",
   "metadata": {},
   "outputs": [],
   "source": [
    "x = 5\n",
    "y = 4*x + 3\n",
    "\n",
    "print(x, y)\n",
    "\n",
    "print('x \\t y')\n",
    "\n",
    "for x in range(11):\n",
    "    y = 4*x + 3\n",
    "    print(x, '\\t', y)"
   ]
  },
  {
   "cell_type": "markdown",
   "id": "f1aec68d-2ad5-4625-8379-f513b1eef975",
   "metadata": {},
   "source": [
    "code2 通过python函数来表示数学函数"
   ]
  },
  {
   "cell_type": "code",
   "execution_count": null,
   "id": "d0f8f04f-6d71-4061-afd2-a83dd3b7f1d6",
   "metadata": {},
   "outputs": [],
   "source": [
    "def f(x: float) -> float:\n",
    "    \"\"\"数学函数 f(x) = 4x + 3\"\"\"\n",
    "    y = 4*x + 3\n",
    "    return y\n",
    "\n",
    "# 通过函数关系得到一些点\n",
    "print('x \\t y')\n",
    "for x in range(11):\n",
    "    print(x, '\\t', f(x))"
   ]
  },
  {
   "cell_type": "markdown",
   "id": "8c8b0fa1",
   "metadata": {},
   "source": [
    "code3 使用 matplotlib 绘制函数图像(matplotlib的基本使用)"
   ]
  },
  {
   "cell_type": "code",
   "execution_count": null,
   "id": "89fd6dc7",
   "metadata": {},
   "outputs": [],
   "source": [
    "import matplotlib.pyplot as plt\n",
    "\n",
    "fig, ax = plt.subplots()\n",
    "\n",
    "plt.show()"
   ]
  },
  {
   "cell_type": "markdown",
   "id": "fc5c355c",
   "metadata": {},
   "source": [
    "code4 matplotlib的使用"
   ]
  },
  {
   "cell_type": "code",
   "execution_count": null,
   "id": "b551fa6b",
   "metadata": {},
   "outputs": [],
   "source": [
    "import matplotlib.pyplot as plt\n",
    "\n",
    "fig, ax = plt.subplots()\n",
    "\n",
    "# 设置x和y坐标的范围\n",
    "# 列表前两个元素表示x负方向和正方向的范围\n",
    "# 列表后两个元素表示y负方向和正方向的范围\n",
    "plt.axis([-10, 10, -10, 10])\n",
    "\n",
    "# show the graph\n",
    "plt.show()"
   ]
  },
  {
   "cell_type": "markdown",
   "id": "0b63ae53",
   "metadata": {},
   "source": [
    "code5 better way to set dimensions"
   ]
  },
  {
   "cell_type": "code",
   "execution_count": null,
   "id": "227cb824",
   "metadata": {},
   "outputs": [],
   "source": [
    "import matplotlib.pyplot as plt\n",
    "\n",
    "x_min = -10\n",
    "x_max = 10\n",
    "y_min = -10\n",
    "y_max = 10\n",
    "\n",
    "fig, ax = plt.subplots()\n",
    "\n",
    "plt.axis([x_min, x_max, y_min, y_max])\n",
    "\n",
    "# show the graph\n",
    "plt.show()"
   ]
  },
  {
   "cell_type": "markdown",
   "id": "65889f9b",
   "metadata": {},
   "source": [
    "code6"
   ]
  },
  {
   "cell_type": "code",
   "execution_count": null,
   "id": "68b1b81d",
   "metadata": {},
   "outputs": [],
   "source": [
    "import matplotlib.pyplot as plt\n",
    "\n",
    "x_min = -10\n",
    "x_max = 10\n",
    "y_min = -10\n",
    "y_max = 10\n",
    "\n",
    "fig, ax = plt.subplots()\n",
    "\n",
    "# 设置坐标轴刻度范围\n",
    "plt.axis([x_min, x_max, y_min, y_max])\n",
    "\n",
    "# 通过(x_min, 0)和(x_max, 0)绘制一条横线\n",
    "# 'b'表示'blue'蓝色\n",
    "plt.plot([x_min, x_max], [0, 0], 'b')\n",
    "\n",
    "# 通过(0, y_min)和(0, y_max)绘制一条熟悉那\n",
    "plt.plot([0, 0], [y_min, y_max], 'b')\n",
    "\n",
    "# 绘制一个点(5, 4)\n",
    "# 'ro'中的'r'表示'red'红色，'o'表示圆圈⭕\n",
    "plt.plot([5], [4], 'ro')\n",
    "\n",
    "# plot a line\n",
    "plt.plot([0, 10], [0, 10], 'r')\n",
    "\n",
    "# 根据函数关系绘制多个点\n",
    "for x in range(10):\n",
    "    y = 0.5*x + 1\n",
    "    plt.plot([x], [y], 'yo')\n",
    "\n",
    "# show the graph\n",
    "plt.show()"
   ]
  },
  {
   "cell_type": "markdown",
   "id": "6edfeaba",
   "metadata": {},
   "source": [
    "code7 numpy and matplotlib"
   ]
  },
  {
   "cell_type": "code",
   "execution_count": null,
   "id": "3b30765a",
   "metadata": {},
   "outputs": [],
   "source": [
    "import matplotlib.pyplot as plt\n",
    "import numpy as np\n",
    "\n",
    "x_min = -10\n",
    "x_max = 10\n",
    "y_min = -10\n",
    "y_max = 10\n",
    "\n",
    "\"\"\"numpy创建元组\"\"\"\n",
    "\n",
    "# 点的数量\n",
    "points = 2 * (x_max - x_min)\n",
    "# 使用np创建等间隔数组\n",
    "x = np.linspace(x_min, x_max, points)\n",
    "# 类似于列表推导式，对元组进行数学计算得到的仍然是元组\n",
    "y = 2*x + 1\n",
    "\n",
    "\"\"\"matplotlib\"\"\"\n",
    "fig, ax = plt.subplots()\n",
    "\n",
    "# 坐标轴范围\n",
    "plt.axis([x_min, x_max, y_min, y_max])\n",
    "\n",
    "# 坐标轴标签\n",
    "ax.set_xlabel('x values')\n",
    "ax.set_ylabel('y values')\n",
    "\n",
    "# 图像标题\n",
    "ax.set_title('My Graph')\n",
    "\n",
    "# 开启网格（格子纸样式）\n",
    "ax.grid(True)\n",
    "\n",
    "# 坐标轴刻度间隔\n",
    "ax.set_xticks(np.arange(x_min, x_max, 1))\n",
    "ax.set_yticks(np.arange(y_min, y_max, 1))\n",
    "\n",
    "# 横线和竖线\n",
    "plt.plot([x_min, x_max], [0, 0], 'b')\n",
    "plt.plot([0, 0], [y_min, y_max], 'b')\n",
    "\n",
    "# 连接点形成直线，图例label参数只有调用了plt.legend()才会显示，不会自动补全\n",
    "plt.plot(x, y, 'r', label='y=2x+1')\n",
    "\n",
    "# 显示图例\n",
    "plt.legend()\n",
    "\n",
    "plt.show()"
   ]
  }
 ],
 "metadata": {
  "kernelspec": {
   "display_name": "Python 3",
   "language": "python",
   "name": "python3"
  },
  "language_info": {
   "codemirror_mode": {
    "name": "ipython",
    "version": 3
   },
   "file_extension": ".py",
   "mimetype": "text/x-python",
   "name": "python",
   "nbconvert_exporter": "python",
   "pygments_lexer": "ipython3",
   "version": "3.12.1"
  },
  "widgets": {
   "application/vnd.jupyter.widget-state+json": {
    "state": {},
    "version_major": 2,
    "version_minor": 0
   }
  }
 },
 "nbformat": 4,
 "nbformat_minor": 5
}
