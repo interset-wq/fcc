{
 "cells": [
  {
   "cell_type": "markdown",
   "id": "aeb44872",
   "metadata": {},
   "source": [
    "# Learn Common Factors and Square Roots 公因式和平方根\n",
    "\n",
    "In this unit, you will learn how to find common factors and divide them out. This will be useful when simplifying fractions and factoring square roots.\n",
    "\n",
    "## use modulus to find common factors 使用求模运算求公因数"
   ]
  },
  {
   "cell_type": "code",
   "execution_count": 1,
   "id": "a1b9a2f4",
   "metadata": {},
   "outputs": [
    {
     "name": "stdout",
     "output_type": "stream",
     "text": [
      "2\n"
     ]
    }
   ],
   "source": [
    "print(5 % 3)"
   ]
  },
  {
   "cell_type": "code",
   "execution_count": null,
   "id": "1e91a0a0",
   "metadata": {},
   "outputs": [],
   "source": [
    "num = 12\n",
    "\n",
    "for i in range(1, num + 1):\n",
    "    if num % i == 0:\n",
    "        print(i)"
   ]
  },
  {
   "cell_type": "code",
   "execution_count": null,
   "id": "6ddcfa0f",
   "metadata": {},
   "outputs": [],
   "source": [
    "numerator = 12\n",
    "denominator = 24\n",
    "factor = 1\n",
    "\n",
    "\"\"\"求最大公因数\"\"\"\n",
    "\n",
    "# 找到所有的公因数\n",
    "for i in range(1, denominator + 1):\n",
    "    if numerator % i == 0 and denominator % i == 0:\n",
    "        # 最后一个找到的就是最大公因数\n",
    "        print(i)\n",
    "        factor = i\n",
    "\n",
    "# 分子分母同时约去最大公因数\n",
    "n = int(numerator / factor)\n",
    "d = int(denominator / factor)\n",
    "\n",
    "print(f'original: {numerator}/{denominator}')\n",
    "print(f'reduced: {n}/{d}')"
   ]
  },
  {
   "cell_type": "code",
   "execution_count": null,
   "id": "af6e6ce1",
   "metadata": {},
   "outputs": [
    {
     "name": "stdout",
     "output_type": "stream",
     "text": [
      "demical: 0.125\n",
      "fraction: 125/1000\n",
      "reduced: 1/8\n"
     ]
    }
   ],
   "source": [
    "\"\"\"将小数转换为分数\"\"\"\n",
    "\n",
    "def greatest_common_factor(a: int, b: int) -> int:\n",
    "    \"\"\"求最大公因数\"\"\"\n",
    "\n",
    "    end = a if a <= b else b\n",
    "    greatest = 1\n",
    "    # print(end)\n",
    "    for i in range(1, end + 1):\n",
    "        if a % i == 0 and b % i == 0:\n",
    "            greatest = i\n",
    "    return greatest\n",
    "            \n",
    "\n",
    "num = input('输入一个小数，我们可以将其转换为分数: ')\n",
    "digits = len(num) - 1\n",
    "num = float(num)\n",
    "numerator = int(num * 10**digits)\n",
    "denominator = 10**digits\n",
    "\n",
    "g = greatest_common_factor(numerator, denominator)\n",
    "n = int(numerator / g)\n",
    "d = int(denominator / g)\n",
    "\n",
    "print(f'demical: {num}')\n",
    "print(f'fraction: {numerator}/{denominator}')\n",
    "print(f'reduced: {n}/{d}')\n"
   ]
  },
  {
   "cell_type": "markdown",
   "id": "7360cb2c",
   "metadata": {},
   "source": [
    "## squire roots 平方根"
   ]
  },
  {
   "cell_type": "code",
   "execution_count": 17,
   "id": "7873897e",
   "metadata": {},
   "outputs": [
    {
     "name": "stdout",
     "output_type": "stream",
     "text": [
      "5.0\n",
      "4.898979485566356\n"
     ]
    }
   ],
   "source": [
    "import math\n",
    "\n",
    "print(math.sqrt(25))\n",
    "print(math.sqrt(24))"
   ]
  },
  {
   "cell_type": "code",
   "execution_count": null,
   "id": "d58fe8fa",
   "metadata": {},
   "outputs": [],
   "source": [
    "num = 12\n",
    "\n",
    "max_factor = 1\n",
    "\n",
    "end = math.floor(math.sqrt(num)) + 1\n",
    "\n",
    "for i in range(1, end):\n",
    "    if num % i**2 == 0:\n",
    "        max_factor = i\n",
    "\n",
    "remaining_under_squire = int(num / max_factor**2)\n",
    "\n",
    "print('num: ', num)\n",
    "print(f'squire rooted num: {max_factor}')\n",
    "print(f'squire factor: {max_factor**2}')\n",
    "print(f'remaining int: {remaining_under_squire}')\n",
    "print(f'this is {max_factor}*sqrt({remaining_under_squire})')"
   ]
  },
  {
   "cell_type": "code",
   "execution_count": null,
   "id": "7b6c88b7",
   "metadata": {},
   "outputs": [
    {
     "name": "stdout",
     "output_type": "stream",
     "text": [
      "2*sqrt(3)\n"
     ]
    }
   ],
   "source": [
    "import math\n",
    "import sympy\n",
    "\n",
    "num = 12\n",
    "\n",
    "end = math.floor(math.sqrt(num)) + 1\n",
    "max_factor = 1\n",
    "other_factor = 1\n",
    "squire_root = 1\n",
    "\n",
    "for i in range(1, end):\n",
    "    if num % i**2 == 0:\n",
    "        max_factor = i**2\n",
    "\n",
    "other_factor = int(num / max_factor)\n",
    "squire_root = int(math.sqrt(max_factor))\n",
    "\n",
    "output = squire_root * sympy.sqrt(other_factor)\n",
    "print(output)"
   ]
  }
 ],
 "metadata": {
  "kernelspec": {
   "display_name": "Python 3",
   "language": "python",
   "name": "python3"
  },
  "language_info": {
   "codemirror_mode": {
    "name": "ipython",
    "version": 3
   },
   "file_extension": ".py",
   "mimetype": "text/x-python",
   "name": "python",
   "nbconvert_exporter": "python",
   "pygments_lexer": "ipython3",
   "version": "3.12.1"
  }
 },
 "nbformat": 4,
 "nbformat_minor": 5
}
