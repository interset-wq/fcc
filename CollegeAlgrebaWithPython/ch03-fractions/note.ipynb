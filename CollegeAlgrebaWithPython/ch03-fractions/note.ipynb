{
 "cells": [
  {
   "cell_type": "markdown",
   "id": "6973ce90",
   "metadata": {},
   "source": [
    "# Learn Fractions and Decimals 分数和小数\n",
    "\n",
    "This unit will focus on converting decimals to fractions and percents."
   ]
  },
  {
   "cell_type": "code",
   "execution_count": 1,
   "id": "46cb76a3",
   "metadata": {},
   "outputs": [
    {
     "name": "stdout",
     "output_type": "stream",
     "text": [
      "小数:  0.123\n",
      "分数: 123/1000\n",
      "百分数: 12.3%\n"
     ]
    }
   ],
   "source": [
    "\"\"\"将小数转换为分数和百分数\"\"\"\n",
    "\n",
    "digits = input('输入一个小数: ')\n",
    "\n",
    "# 获取小数位数\n",
    "exponent = len(digits) - 1\n",
    "\n",
    "# 将输入的类似 1.23 的str转换为float\n",
    "n = float(digits)\n",
    "\n",
    "# 转化为小数的分子和分母（通分）\n",
    "numerator = int(n * 10**exponent)\n",
    "denominator = 10**exponent\n",
    "\n",
    "# 百分数的数值\n",
    "percent = n * 100\n",
    "\n",
    "print('小数: ', n)\n",
    "print(f'分数: {numerator}/{denominator}')\n",
    "print(f'百分数: {percent}%')"
   ]
  }
 ],
 "metadata": {
  "kernelspec": {
   "display_name": "Python 3",
   "language": "python",
   "name": "python3"
  },
  "language_info": {
   "codemirror_mode": {
    "name": "ipython",
    "version": 3
   },
   "file_extension": ".py",
   "mimetype": "text/x-python",
   "name": "python",
   "nbconvert_exporter": "python",
   "pygments_lexer": "ipython3",
   "version": "3.12.1"
  }
 },
 "nbformat": 4,
 "nbformat_minor": 5
}
