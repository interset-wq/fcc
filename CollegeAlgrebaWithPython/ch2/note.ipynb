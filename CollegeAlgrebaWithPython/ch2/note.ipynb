{
 "cells": [
  {
   "cell_type": "markdown",
   "id": "000ae493",
   "metadata": {},
   "source": [
    "# Learn How to Solve for X 解未知数\n",
    "\n",
    "This unit will focus on how to solve for an unknown number (often referred to as \"x\") using written Algebra and Python code.\n",
    "\n",
    "## sympy\n",
    "\n",
    "### 解方程"
   ]
  },
  {
   "cell_type": "code",
   "execution_count": null,
   "id": "859b76a6",
   "metadata": {},
   "outputs": [],
   "source": [
    "from sympy import symbols\n",
    "from sympy.solvers import solve\n",
    "\n",
    "# 定义一个未知数x\n",
    "x = symbols('x')\n",
    "\n",
    "# 输入一个表达式，例如 x-2\n",
    "eq = input(\"在这里输入含有'x'的表达式： 0 = \")\n",
    "\n",
    "# 解方程 \"0 = 输入的表达式\" 求出未知数x\n",
    "print('x = ', solve(eq, x))"
   ]
  },
  {
   "cell_type": "code",
   "execution_count": null,
   "id": "912d73d4",
   "metadata": {},
   "outputs": [],
   "source": [
    "from sympy import var, Eq\n",
    "from sympy.solvers import solve\n",
    "\n",
    "# 定义多个未知数x,y\n",
    "x, y = var('x, y')\n",
    "\n",
    "first = 2*x + 10\n",
    "\n",
    "# 构建数学方程first==y，例如 y = 2*x + 10\n",
    "eq1 = Eq(first, y)\n",
    "\n",
    "# 计算未知数x\n",
    "sol = solve(eq1, x)\n",
    "\n",
    "print('x = ', sol[0])"
   ]
  },
  {
   "cell_type": "markdown",
   "id": "a0503c06",
   "metadata": {},
   "source": [
    "### 因式分解"
   ]
  },
  {
   "cell_type": "code",
   "execution_count": null,
   "id": "e3aaa706",
   "metadata": {},
   "outputs": [],
   "source": [
    "from sympy import var, factor\n",
    "\n",
    "# 定义多个未知数x,y\n",
    "x, y = var('x, y')\n",
    "\n",
    "# 创建一个数学表达式\n",
    "eq = x**2 - 4\n",
    "\n",
    "# 对数学表达式 x**2 - 4 进行因式分解\n",
    "print(factor(eq))"
   ]
  },
  {
   "cell_type": "markdown",
   "id": "50d107a0",
   "metadata": {},
   "source": [
    "### 随机计算题（一步加法和一步乘法）"
   ]
  },
  {
   "cell_type": "code",
   "execution_count": null,
   "id": "7b61622b",
   "metadata": {},
   "outputs": [],
   "source": [
    "from random import randint\n",
    "\n",
    "def string_frac(in_string: str) -> float:\n",
    "    \"\"\"将输入的字符串转换为小数,\n",
    "    由于input()函数的返回值是 <class 'str'>, 因此需要将输入的\n",
    "    类似于 3/5 之类的字符串转换为小数才可以参与数学计算\n",
    "    \"\"\"\n",
    "\n",
    "    if '/' in in_string:\n",
    "        # 将类似于 3/5 的str转换为float\n",
    "        nd = in_string.split('/')\n",
    "        n = float(nd[0])\n",
    "        d = float(nd[-1])\n",
    "        ans = n / d\n",
    "    else:\n",
    "        # 将类似于 1 的str直接转换为float\n",
    "        ans = float(in_string)\n",
    "    \n",
    "    return ans\n",
    "\n",
    "\n",
    "def one_step_add() -> None:\n",
    "    \"\"\"随机生成加法计算的简单方程\"\"\"\n",
    "\n",
    "    # 随机生成类似于 x + 2 = 3 的数学方程\n",
    "    a = randint(-4, 10)\n",
    "    b = randint(2, 24)\n",
    "    print('x + ', a, ' =', b)\n",
    "    ans = float(input('输入你的答案 x = '))\n",
    "    answer = b - a\n",
    "\n",
    "    # 检查是否回答正确\n",
    "    if ans == answer:\n",
    "        print('Correct!')\n",
    "    else:\n",
    "        print('Try again')\n",
    "        print('The correct answer is ', answer)\n",
    "\n",
    "\n",
    "def one_step_mult() -> None:\n",
    "    \"\"\"随机生成简单的乘法方程\"\"\"\n",
    "\n",
    "    # 随机生成类似于 2*x = 8 的数学方程\n",
    "    a = randint(1, 11)\n",
    "    b = randint(2, 24)\n",
    "    print(a, ' * x = ', b)\n",
    "    ans = input('x = ')\n",
    "    answer = b / a\n",
    "\n",
    "    # 检查是否回答正确\n",
    "    if string_frac(ans) == answer:\n",
    "        print('Correct!')\n",
    "    else:\n",
    "        print('Try again')\n",
    "        print('The correct answer is ', answer)       \n",
    "\n",
    "if __name__ == '__main__':\n",
    "    one_step_add()\n",
    "    one_step_mult()"
   ]
  }
 ],
 "metadata": {
  "kernelspec": {
   "display_name": "Python 3",
   "language": "python",
   "name": "python3"
  },
  "language_info": {
   "codemirror_mode": {
    "name": "ipython",
    "version": 3
   },
   "file_extension": ".py",
   "mimetype": "text/x-python",
   "name": "python",
   "nbconvert_exporter": "python",
   "pygments_lexer": "ipython3",
   "version": "3.12.1"
  }
 },
 "nbformat": 4,
 "nbformat_minor": 5
}
