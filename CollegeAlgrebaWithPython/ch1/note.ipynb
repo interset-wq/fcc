{
 "cells": [
  {
   "cell_type": "markdown",
   "id": "8f1487ad",
   "metadata": {},
   "source": [
    "# Learn Ratios and Proportions 比率和比例\n",
    "\n",
    "## 简单比例计算——交叉相乘\n",
    "\n",
    "$\\frac{n1}{d1} = \\frac{n2}{d2} \\implies n1 \\cdot d2 = n2 \\cdot d2$\n",
    "\n",
    "## 将无限循环小数转化为分数\n",
    "\n",
    "$x = 0.666...$\n",
    "\n",
    "$10x = 6.666...$\n",
    "\n",
    "两式相减得 $9x = 6 \\implies x = \\frac{2}{3}$\n",
    "\n",
    "使用类似的方法可以得出 $0.999... = 1$\n",
    "\n",
    "这虽然不符合我们的常识，但这就是事实。"
   ]
  }
 ],
 "metadata": {
  "language_info": {
   "name": "python"
  }
 },
 "nbformat": 4,
 "nbformat_minor": 5
}
