{
 "cells": [
  {
   "cell_type": "markdown",
   "id": "b98a1ef4",
   "metadata": {},
   "source": [
    "# review"
   ]
  },
  {
   "cell_type": "markdown",
   "id": "c9280981",
   "metadata": {},
   "source": [
    "## 字符串\n",
    "\n",
    "### 字符串下标\n",
    "\n",
    "字符串可以像列表一样通过下标取值"
   ]
  },
  {
   "cell_type": "code",
   "execution_count": null,
   "id": "6d03716d",
   "metadata": {},
   "outputs": [],
   "source": [
    "my_str = \"hello world\"\n",
    "print(my_str[0]) # h"
   ]
  },
  {
   "cell_type": "markdown",
   "id": "5a5b25b5",
   "metadata": {},
   "source": [
    "### 字符串切片\n",
    "\n",
    "通过 `string[start:stop:step]` 的写法对字符串切片。左闭右开区间，step默认值是1，写法很灵活，start,stop,step三者都可以省略，但是至少要有一个 `:`"
   ]
  },
  {
   "cell_type": "code",
   "execution_count": null,
   "id": "c1e8a755",
   "metadata": {},
   "outputs": [],
   "source": [
    "my_string = 'camperbot'\n",
    "print(my_string[0:6]) # camper\n",
    "print(my_string[0:6:3]) # cp\n",
    "print(my_string[:]) # camperbot\n",
    "print(my_string[::-1]) # tobrepmac"
   ]
  },
  {
   "cell_type": "markdown",
   "id": "704cf798",
   "metadata": {},
   "source": [
    "### 字符串方法\n",
    "\n",
    "- `.find(char)` 传入一个字符 `char`，返回这个字符的下标。如果这个字符不在字符串中，返回 `-1`\n",
    "- `.index(substring)` 类似于 `.find()`，在字符串中没有找到 `substring` 抛出异常 `ValueError`\n",
    "- `.lower()` 返回原字符串的小写形式\n",
    "- `.isalpha()` 判断字符是否全都是英文字母，返回布尔值"
   ]
  },
  {
   "cell_type": "code",
   "execution_count": null,
   "id": "725e4fe6",
   "metadata": {},
   "outputs": [],
   "source": [
    "my_str = \"hello world\"\n",
    "print(my_str.isalpha()) # False\n",
    "\n",
    "print(my_str.find('e')) # 1\n",
    "print(my_str.find('he')) # 0\n",
    "print(my_str.find('z')) # -1\n",
    "\n",
    "print(my_str.index('e')) # 1\n",
    "print(my_str.index('he')) # 0\n",
    "print(my_str.index('z')) # 抛出异常ValueError"
   ]
  },
  {
   "cell_type": "markdown",
   "id": "764560dd",
   "metadata": {},
   "source": [
    "- 类方法 `str.maketrans()` 传入字典，定义一个替换字典。也可对字符串对象使用，作用效果和对 `str` 完全相同。这个方法需要配合`.translate()`使用\n",
    "- `.translate()` 传入`str.maketrans()`返回的替换字典，在字符串中用字典的值去替换键的字符，全部替换"
   ]
  },
  {
   "cell_type": "code",
   "execution_count": null,
   "id": "f53a77a8",
   "metadata": {},
   "outputs": [],
   "source": [
    "my_string = \"tamperlot\"\n",
    "translation_table = str.maketrans({'t': 'c', 'l': 'b'})\n",
    "translated_string = my_string.translate(translation_table)\n",
    "print(my_string, translated_string)"
   ]
  },
  {
   "cell_type": "markdown",
   "id": "f9a1465e",
   "metadata": {},
   "source": [
    "- `.join()` 方法 传入元素为字符串的列表，将其连接为一个字符串"
   ]
  },
  {
   "cell_type": "code",
   "execution_count": null,
   "id": "ca7bc9d8",
   "metadata": {},
   "outputs": [],
   "source": [
    "my_list = ['html', 'css', 'javascript']\n",
    "my_str = ', '.join(my_list)\n",
    "print(my_str) # html, css, javascript"
   ]
  },
  {
   "cell_type": "markdown",
   "id": "31232cc1",
   "metadata": {},
   "source": [
    "- `.isupper()` 判断字符串中字母是否全大写"
   ]
  },
  {
   "cell_type": "code",
   "execution_count": null,
   "id": "4ce69adf",
   "metadata": {},
   "outputs": [],
   "source": [
    "my_str1 = 'ABC'\n",
    "my_str2 = 'Abc'\n",
    "print(my_str1.isupper()) # True\n",
    "print(my_str2.isupper()) # False"
   ]
  },
  {
   "cell_type": "markdown",
   "id": "e6b596c5",
   "metadata": {},
   "source": [
    "- `.strip()` 删除字符串左右两侧特定字符"
   ]
  },
  {
   "cell_type": "code",
   "execution_count": null,
   "id": "e79e6717",
   "metadata": {},
   "outputs": [],
   "source": [
    "my_str = '_abc_'\n",
    "new_str = my_str.strip('_')\n",
    "print(new_str) # abc"
   ]
  },
  {
   "cell_type": "markdown",
   "id": "bea4f5f8",
   "metadata": {},
   "source": [
    "### f字符串格式控制\n",
    "\n",
    "f字符串中的变量可以通过 `:` 进行格式控制\n",
    "\n",
    "- `+` 显示正负号，0显示为正号"
   ]
  },
  {
   "cell_type": "code",
   "execution_count": null,
   "id": "363b9576",
   "metadata": {},
   "outputs": [],
   "source": [
    "num = 6\n",
    "my_str = f'the num is {num:+}'\n",
    "print(my_str) # the num is +6"
   ]
  },
  {
   "cell_type": "markdown",
   "id": "6155916f",
   "metadata": {},
   "source": [
    "- `<n` 左对齐，`^n` 居中对齐，`>n` 右对齐。用数字替换 `n`，n表示字符串的长度，在 `<` `^` `>` 之前还可以添加填充占位符，默认是空格"
   ]
  },
  {
   "cell_type": "code",
   "execution_count": null,
   "id": "969d520e",
   "metadata": {},
   "outputs": [],
   "source": [
    "my_str1 = f'{\"Hello World\":-^20}'\n",
    "my_str2 = f'{\"Hello World\":^20}'\n",
    "print(my_str1)\n",
    "print(my_str2)\n",
    "\n",
    "# ----Hello World-----\n",
    "#     Hello World   "
   ]
  },
  {
   "cell_type": "markdown",
   "id": "e7ed13c1",
   "metadata": {},
   "source": [
    "- `!s` 前面不需要`:`，将其他数据类型转换为字符串"
   ]
  },
  {
   "cell_type": "code",
   "execution_count": null,
   "id": "262d502b",
   "metadata": {},
   "outputs": [],
   "source": [
    "class Dog:\n",
    "    def __init__(self, name, age):\n",
    "        self.name = name\n",
    "        self.age = age\n",
    "    def __str__(self):\n",
    "        return f\"{self.__class__.__name__}(name={self.name}, age={self.age})\"\n",
    "    \n",
    "my_dog = Dog('cool', 3)\n",
    "my_str = f'this is {my_dog!s}' # 相当于 \n",
    "# my_str = f'this is {str(my_dog)}'\n",
    "print(my_str) # this is Dog(name=cool, age=3)"
   ]
  },
  {
   "cell_type": "markdown",
   "id": "52a42092",
   "metadata": {},
   "source": [
    "- `.nf` 控制保留几位小数"
   ]
  },
  {
   "cell_type": "code",
   "execution_count": null,
   "id": "1f1d0878",
   "metadata": {},
   "outputs": [
    {
     "name": "stdout",
     "output_type": "stream",
     "text": [
      "this num is 3.00000\n"
     ]
    }
   ],
   "source": [
    "num = 3\n",
    "my_str = f'this num is {num:.5f}'\n",
    "print(my_str) # this num is 3.00000"
   ]
  },
  {
   "cell_type": "markdown",
   "id": "755094ca",
   "metadata": {},
   "source": [
    "## 内置函数\n",
    "\n",
    "- `print()` 打印，可以传入多个参数，使用逗号分隔\n",
    "- `len()` 返回字符串、列表等的长度\n",
    "- `type()` 返回数据类型\n",
    "- `int()` 将数据类型转换为整数\n",
    "- `list()` 将数据类型转换为列表，对字典使用时，返回键列表\n",
    "- `range(start, stop, step)` 生成迭代器，左闭右开区间，常用于for循环。如果循环变量在循环体中用不到，可以使用 `_` 表示循环变量\n",
    "- `abs()` 返回一个数字的绝对值\n",
    "- `sum()` 计算所有元素的和\n",
    "- `max()` 返回列表中的最大值\n",
    "- `min()` 返回最小值"
   ]
  },
  {
   "cell_type": "code",
   "execution_count": null,
   "id": "b1f2aedb",
   "metadata": {},
   "outputs": [],
   "source": [
    "my_str = \"hello world\"\n",
    "print(my_str, len(my_str), type(my_str), sep=', ') # hello world, 11, <class 'str'>"
   ]
  },
  {
   "cell_type": "markdown",
   "id": "4ad47d14",
   "metadata": {},
   "source": [
    "- `all()` 传入可迭代对象，返回布尔值。只有可迭代对象所有元素都是True时，才返回True。可以配合列表推导式使用，但是一般使用生成器表达式generator expression（把列表推导式的 `[]` 换成 `()`），这时可以只用一层括号\n",
    "- `any()` 用于判断可迭代对象（如列表、元组、集合等）中是否存在至少一个为 True 的元素。"
   ]
  },
  {
   "cell_type": "code",
   "execution_count": null,
   "id": "510bb379",
   "metadata": {},
   "outputs": [],
   "source": [
    "numbers = [3, 5, 7, 9, 11]\n",
    "result = all(x > 0 for x in numbers)\n",
    "print(result)  # True"
   ]
  },
  {
   "cell_type": "markdown",
   "id": "e6ced1cf",
   "metadata": {},
   "source": [
    "- `enumerate()` 用于for循环，同时遍历列表的下标和元素"
   ]
  },
  {
   "cell_type": "code",
   "execution_count": null,
   "id": "8547bc67",
   "metadata": {},
   "outputs": [],
   "source": [
    "iterable = ['a', 'b', 'c']\n",
    "for i, j in enumerate(iterable):\n",
    "    print(i, j)\n",
    "\n",
    "# 0 a\n",
    "# 1 b\n",
    "# 2 c"
   ]
  },
  {
   "cell_type": "markdown",
   "id": "a3de689b",
   "metadata": {},
   "source": [
    "## 列表\n",
    "\n",
    "### 列表方法\n",
    "\n",
    "- `.append(elem)` 在列表末尾追加元素\n",
    "- `.insert(index, elem)` 通过下标插入元素\n",
    "- `.pop(index)` 使用下标删除元素，不传入下标时删除末尾的元素，返回删除的元素"
   ]
  },
  {
   "cell_type": "code",
   "execution_count": null,
   "id": "c5dd27d0",
   "metadata": {},
   "outputs": [],
   "source": [
    "my_list = ['html', 'css', 'javascript']\n",
    "my_list.append('python')\n",
    "print(my_list) # ['html', 'css', 'javascript', 'python']\n",
    "my_list.insert(1, 'c')\n",
    "print(my_list) # ['html', 'c', 'css', 'javascript', 'python']\n",
    "elem1 = my_list.pop()\n",
    "print(my_list, elem1) # ['html', 'c', 'css', 'javascript'] python\n",
    "elem2 = my_list.pop(0)\n",
    "print(my_list, elem2) # ['c', 'css', 'javascript'] html"
   ]
  },
  {
   "cell_type": "markdown",
   "id": "c3d08fd7",
   "metadata": {},
   "source": [
    "- `.extend()` 传入一个可迭代对象，将这个对象的所有元素追加到列表末尾"
   ]
  },
  {
   "cell_type": "code",
   "execution_count": null,
   "id": "cb0d9574",
   "metadata": {},
   "outputs": [],
   "source": [
    "my_list = ['larch', 'birch']\n",
    "tree_list = ['fir', 'redwood', 'pine']\n",
    "my_list.extend(tree_list)\n",
    "print(my_list) # ['larch', 'birch', 'fir', 'redwood', 'pine']"
   ]
  },
  {
   "cell_type": "markdown",
   "id": "3f11edf9",
   "metadata": {},
   "source": [
    "- `remove()` 移除第一个匹配到的元素"
   ]
  },
  {
   "cell_type": "code",
   "execution_count": null,
   "id": "da2cb9c5",
   "metadata": {},
   "outputs": [],
   "source": [
    "my_list = ['larch', 1, True, 1]\n",
    "my_list.remove(1)\n",
    "print(my_list) # ['larch', True, 1]"
   ]
  },
  {
   "cell_type": "markdown",
   "id": "5b99c38f",
   "metadata": {},
   "source": [
    "### 列表推导式List Comprehension\n",
    "\n",
    "适用于列表、字符串、元组。\n",
    "\n",
    "#### 普通的列表推导式"
   ]
  },
  {
   "cell_type": "code",
   "execution_count": null,
   "id": "0ec82753",
   "metadata": {},
   "outputs": [],
   "source": [
    "my_list = [1, 2, 3]\n",
    "spam = [i * 2 for i in my_list]\n",
    "print(spam) # [2, 4, 6]"
   ]
  },
  {
   "cell_type": "markdown",
   "id": "776e02fb",
   "metadata": {},
   "source": [
    "#### 单条件的列表推导式\n",
    "\n",
    "满足条件的元素才执行"
   ]
  },
  {
   "cell_type": "code",
   "execution_count": null,
   "id": "de1db68e",
   "metadata": {},
   "outputs": [],
   "source": [
    "my_list = [-1, 2, 3]\n",
    "spam = [i * 2 for i in my_list if i > 0]\n",
    "print(spam) # [4, 6]"
   ]
  },
  {
   "cell_type": "markdown",
   "id": "ac99c397",
   "metadata": {},
   "source": [
    "#### 双条件的列表推导式"
   ]
  },
  {
   "cell_type": "code",
   "execution_count": null,
   "id": "08e7472f",
   "metadata": {},
   "outputs": [],
   "source": [
    "my_list = [-2, -1, 2, 3]\n",
    "spam = [i * 2 if i > 0 else -1 for i in my_list]\n",
    "print(spam) # [-1, -1, 4, 6]"
   ]
  },
  {
   "cell_type": "markdown",
   "id": "9fc1995f",
   "metadata": {},
   "source": [
    "### 元组\n",
    "\n",
    "使用元组可以同时为多个遍历赋值"
   ]
  },
  {
   "cell_type": "code",
   "execution_count": null,
   "id": "9caac20b",
   "metadata": {},
   "outputs": [],
   "source": [
    "spam = ('lemon', 'curry')\n",
    "item1, item2 = spam\n",
    "print(item1, item2) # lemon curry"
   ]
  },
  {
   "cell_type": "markdown",
   "id": "53a041c0",
   "metadata": {},
   "source": [
    "## lambda表达式\n",
    "\n",
    "lambda表达式是一种匿名函数，适用于简单、一次性的场合。\n",
    "\n",
    "语法 `lambda x: expr`\n",
    "\n",
    "- `x` 函数表达式 `expr` 中需要用到的参数\n",
    "- `expr` 函数表达式，并作为返回值\n",
    "\n",
    "lambda表达式还经常用在`map()`函数和`filter()`函数中\n",
    "\n",
    "### map()函数\n",
    "\n",
    "map()函数需要传入一个函数（常用lambda表达式）和一个可迭代对象（列表等），返回map对象。\n",
    "\n",
    "map()作用效果和列表推导式相同"
   ]
  },
  {
   "cell_type": "code",
   "execution_count": null,
   "id": "59763d61",
   "metadata": {},
   "outputs": [],
   "source": [
    "new_list = map(lambda x: x * 2, [1, 2, 3])\n",
    "print(new_list) # <map object at 0x000001CEFF6E6E90>\n",
    "print(list(new_list)) # [2, 4, 6]"
   ]
  },
  {
   "cell_type": "markdown",
   "id": "aa3d8e55",
   "metadata": {},
   "source": [
    "### filter()函数\n",
    "\n",
    "filter()函数需要传入一个函数和一个可迭代对象。通过传入的函数从可迭代对象中筛选，返回filter对象\n",
    "\n",
    "filter()函数也可以通过列表推导式实现"
   ]
  },
  {
   "cell_type": "code",
   "execution_count": null,
   "id": "ddf58cab",
   "metadata": {},
   "outputs": [],
   "source": [
    "my_list = [1, 2, 3, 4, 5]\n",
    "new_list = filter(lambda x: x > 2, my_list)\n",
    "print(new_list) # <filter object at 0x000001CEFF7262F0>\n",
    "print(list(new_list)) # [3, 4, 5]"
   ]
  },
  {
   "cell_type": "markdown",
   "id": "4a4e5572",
   "metadata": {},
   "source": [
    "## raise语句主动抛出异常\n",
    "\n",
    "`raise ValueError(\"Invalid value\")`\n",
    "\n",
    "## is关键字\n",
    "\n",
    "`is` 关键字用于检查对象的标识（身份）。它被用来判断两个变量是否指向内存中的同一个对象。\n",
    "\n",
    "与 `is` 不同，相等运算符（`==`）用于判断两个对象的值是否相同，而不考虑它们在内存中是否是同一个对象。"
   ]
  },
  {
   "cell_type": "markdown",
   "id": "f3281820",
   "metadata": {},
   "source": [
    "## 标准库string\n",
    "\n",
    "存储了一些字符串常量\n",
    "\n",
    "- `string.ascii_lowercase` 小写英文字母"
   ]
  },
  {
   "cell_type": "code",
   "execution_count": null,
   "id": "5e9de3c4",
   "metadata": {},
   "outputs": [],
   "source": [
    "import string\n",
    "\n",
    "print(string.ascii_lowercase) # abcdefghijklmnopqrstuvwxyz"
   ]
  },
  {
   "cell_type": "markdown",
   "id": "37e3a70a",
   "metadata": {},
   "source": [
    "## 标准库random和secrets\n",
    "\n",
    "二者用法相同，只是secrets生成的随机数比random更安全\n",
    "\n",
    "- `random.random()` 返回0到1之间的随机小数，左闭右开区间\n",
    "- `random.choice()` 传入一个序列，随机返回序列中的一个元素"
   ]
  },
  {
   "cell_type": "code",
   "execution_count": null,
   "id": "065a9d55",
   "metadata": {},
   "outputs": [],
   "source": [
    "import random, secrets\n",
    "\n",
    "my_list = [1, 2, 3]\n",
    "print(random.random()) # 0.11336019783894691\n",
    "print(random.choice(my_list), secrets.choice(my_list)) # 3 2"
   ]
  },
  {
   "cell_type": "markdown",
   "id": "00ad322f",
   "metadata": {},
   "source": [
    "## 标准库re\n",
    "\n",
    "正则表达式\n",
    "\n",
    "- `+` 一次或多次\n",
    "- `[]` 其中之一\n",
    "- `-` 范围\n",
    "- `^` 否定\n",
    "- `.` 单个任意字符\n",
    "- `\\` 转义字符\n",
    "- r字符串 禁用转义字符，可以和f字符串一起使用，rf或fr字符串\n",
    "- `\\d` `[0-9]`\n",
    "- `\\D` `[^0-9]`\n",
    "- `\\w` `[a-zA-Z0-9_]`\n",
    "- `\\W` `[^a-zA-Z0-9_]`\n",
    "\n",
    "### 函数和方法\n",
    "\n",
    "- `findall`\n",
    "- `search`\n",
    "- `sub` 替换\n",
    "\n",
    "### 后向环视\n",
    "\n",
    "在正则表达式模式中，环视（lookaround）是一种断言，它能匹配特定模式但不会消耗字符串中的字符。环视的一种类型是后向环视（lookbehind），它可分为肯定后向环视和否定后向环视，分别用(?<=...)和(?<!...)表示。\n",
    "\n",
    "- 肯定后向环视(?<=...)：用于判断某个位置的前面存在与...部分匹配的内容。\n",
    "- 否定后向环视(?<!...)：用于判断某个位置的前面不存在与...部分匹配的内容。"
   ]
  },
  {
   "cell_type": "code",
   "execution_count": null,
   "id": "dd7fd7c3",
   "metadata": {},
   "outputs": [],
   "source": [
    "import re\n",
    "spam = 'black back bat'\n",
    "re.sub('(?<=l)a', 'o', spam) == 'block back bat' # True\n",
    "re.sub('(?<!l)a', 'o', spam) == 'black bock bot' # True"
   ]
  },
  {
   "cell_type": "markdown",
   "id": "430e2d6f",
   "metadata": {},
   "source": [
    "### 前向环视\n",
    "\n",
    "另一种环视断言是前向环视（lookahead）。肯定前向环视和否定前向环视分别用(?=...)和(?!...)表示。它们用于在某个模式后跟随特定字符序列时进行匹配，且该字符序列不会被消耗（即不纳入最终匹配结果）：\n",
    "\n",
    "- 肯定前向环视(?=...)：断言某个位置的后面存在与...匹配的内容，仅当满足此条件时，前面的模式才会被匹配。\n",
    "- 否定前向环视(?!...)：断言某个位置的后面不存在与...匹配的内容，仅当满足此条件时，前面的模式才会被匹配。"
   ]
  },
  {
   "cell_type": "code",
   "execution_count": null,
   "id": "47bcbad8",
   "metadata": {},
   "outputs": [],
   "source": [
    "spam = 'black back bat'\n",
    "re.sub('a(?=t)', 'o', spam) == 'black back bot' # True\n",
    "re.sub('a(?!t)', 'o', spam) == 'block bock bat' # True"
   ]
  },
  {
   "cell_type": "markdown",
   "id": "3f7b4c5d",
   "metadata": {},
   "source": [
    "## 特殊值\n",
    "\n",
    "- `float('inf')` 是一个特殊值，表示正无穷大"
   ]
  },
  {
   "cell_type": "markdown",
   "id": "14b3249a",
   "metadata": {},
   "source": [
    "## 字典\n",
    "\n",
    "### 字典推导式dictionary comprehension\n",
    "\n",
    "- 普通的字典推导式 `{key: val for key in dict}`\n",
    "- 单条件字典推导式 `{key: val_1 for key in dict if condition}`\n",
    "- 双条件的字典推导式 `{key: val_1 if condition else val_2 for key in dict}`"
   ]
  },
  {
   "cell_type": "code",
   "execution_count": null,
   "id": "ceafa06a",
   "metadata": {},
   "outputs": [],
   "source": [
    "words = [\"apple\", \"banana\", \"cherry\", \"date\"]\n",
    "word_lengths = {word: len(word) for word in words}\n",
    "print(word_lengths)\n",
    "# 输出: {'apple': 5, 'banana': 6, 'cherry': 6, 'date': 4}\n",
    "\n",
    "long_words = {word: len(word) for word in words if len(word) > 5}\n",
    "print(long_words)\n",
    "# 输出: {'banana': 6, 'cherry': 6}"
   ]
  },
  {
   "cell_type": "markdown",
   "id": "1bce9c0d",
   "metadata": {},
   "source": [
    "### 字典方法\n",
    "\n",
    "- `.values()` 常用于for循环，用于遍历字典的值\n",
    "- `.items()` 常用于for循环，同时遍历字典的键和值\n",
    "\n",
    "### del语句\n",
    "\n",
    "通过键删除某个键值对"
   ]
  },
  {
   "cell_type": "code",
   "execution_count": null,
   "id": "828eba6d",
   "metadata": {},
   "outputs": [],
   "source": [
    "my_dict = {\n",
    "    'name': 'Michael',\n",
    "    'occupation': 'Lumberjack'\n",
    "}\n",
    "\n",
    "del my_dict['occupation']\n",
    "print(my_dict) # {'name': 'Michael'}"
   ]
  },
  {
   "cell_type": "markdown",
   "id": "2a7a3fd6",
   "metadata": {},
   "source": [
    "## 三目运算符\n",
    "\n",
    "if-else语句的简介写法\n",
    "\n",
    "语法 `val_1 if condition else val_2`"
   ]
  },
  {
   "cell_type": "code",
   "execution_count": null,
   "id": "c7d451af",
   "metadata": {},
   "outputs": [],
   "source": [
    "num = -10\n",
    "abs_num = num if num >= 0 else -num\n",
    "print(abs_num) # 10"
   ]
  },
  {
   "cell_type": "markdown",
   "id": "aec6a2a5",
   "metadata": {},
   "source": [
    "## 递归recursion\n",
    "\n",
    "常用于解决数学问题"
   ]
  },
  {
   "cell_type": "code",
   "execution_count": null,
   "id": "50d9e42d",
   "metadata": {},
   "outputs": [],
   "source": [
    "def factorial(n):\n",
    "    if n == 0:\n",
    "        return 1\n",
    "    else:\n",
    "        return n * factorial(n - 1)\n",
    "\n",
    "print(factorial(0))  # 1\n",
    "print(factorial(5))  # 120  "
   ]
  },
  {
   "cell_type": "markdown",
   "id": "6b049c7a",
   "metadata": {},
   "source": [
    "## 海象运算符\n",
    "\n",
    "使用某个表达式的值为某个变量赋值\n",
    "\n",
    "语法 `name := val`"
   ]
  },
  {
   "cell_type": "code",
   "execution_count": null,
   "id": "76619b05",
   "metadata": {},
   "outputs": [],
   "source": [
    "# num = int(input(\"请输入一个数字：\"))\n",
    "# if num > 10:\n",
    "#     print(num)\n",
    "\n",
    "if (num := int(input(\"请输入一个数字：\"))) > 10:\n",
    "    print(num)"
   ]
  },
  {
   "cell_type": "markdown",
   "id": "863da9af",
   "metadata": {},
   "source": [
    "## try-except语句\n",
    "\n",
    "    try:\n",
    "        <code>\n",
    "    except:\n",
    "        <code>"
   ]
  },
  {
   "cell_type": "markdown",
   "id": "92a05eee",
   "metadata": {},
   "source": [
    "## 面向对象编程\n",
    "\n",
    "### OOP相关的内置函数\n",
    "\n",
    "- `vars(obj)` 返回对象的属性字典，与 `.__dict__` 魔术属性相同\n",
    "- `getattr(obj, attr)` 传入对象和属性名，返回这个属性名对应的属性值\n",
    "- `hasattr()` 传入一个对象和一个字符串作为参数，返回一个布尔值，判断对象是否有指定的属性。\n",
    "- `isinstance()` 返回布尔值，用于判断一个对象是否是某个指定类（或其子类）的实例。\n",
    "\n",
    "### 魔术方法\n",
    "\n",
    "函数或方法中禁用位置参数，强制使用关键字参数：定义函数时，第一个参数设置为 `*`。定义方法时，`self`参数之后的一个参数设置为 `*`\n",
    "\n",
    "在 Python 中，`NotImplemented` 是一个特殊的单例对象（singleton），用于表示某个操作在当前上下文下无法实现，通常在自定义魔术方法（如算术运算、比较运算相关方法）中作为返回值使用。\n",
    "\n",
    "- `__init__()` 构造方法\n",
    "    - `super()` 子类使用 `super().__init__()`\n",
    "- `__str__()` 调用 `print()` 和 `str()` 时的字符串\n",
    "- `__repr__()` 调用 `repr()` 时的字符串，没有定义 `.__str__()` 时，充当 `__str__()` 的作用，一般优先定义 `.__repr__()` 再定义 `__str__()`\n",
    "- `__getattribute__()`\n",
    "- `__getattr__()`\n",
    "- `__add__()` 加法运算\n",
    "- `__sub__()` 减法运算\n",
    "- `__mul__()` 乘法运算\n",
    "- `__eq__()` 比较运算：相等\n",
    "- `__ne__()` 比较运算：不等于\n",
    "- `__lt__()` 比较运算：小于\n",
    "- `__gt__()` 比较运算：大于\n",
    "- `__le__()` 比较运算：小于等于\n",
    "- `__ge__()` 比较运算：大于等于\n",
    "- `__init_subclass__` 当定义了`__init_subclass__`方法的类被继承时，该方法就会被调用，它能够对子类进行自定义配置。按照惯例，这个方法会接收一个名为cls（代表 “类”）的参数，该参数表示新创建的子类。\n",
    "\n",
    "\n",
    "### 魔术属性\n",
    "\n",
    "- `.__dict__` 返回对象的属性字典\n",
    "- `.__class__.__name__` 返回类名\n",
    "- `.__class__` 获取对象所属的类\n",
    "\n",
    "### 接口interface\n",
    "\n",
    "通过抽象类可以定义接口\n",
    "\n",
    "导入抽象基类和装饰器 `from abc import ABC, abstractmethod`\n",
    "\n",
    "抽象类必须要继承 `ABC` 类，抽象方法要使用装饰器`@abstractmethod`"
   ]
  },
  {
   "cell_type": "markdown",
   "id": "bbf95bdb",
   "metadata": {},
   "source": [
    "## match-case选择语句\n",
    "\n",
    "### 普通写法\n",
    "\n",
    "    match value:\n",
    "        case x:\n",
    "            <code>\n",
    "        case y:\n",
    "            <code>\n",
    "\n",
    "### 使用变量的写法\n",
    "\n",
    "    match my_list:\n",
    "        case [a]:\n",
    "            print(a)\n",
    "        case [a, b]:\n",
    "            print(a, b)"
   ]
  }
 ],
 "metadata": {
  "kernelspec": {
   "display_name": "Python 3",
   "language": "python",
   "name": "python3"
  },
  "language_info": {
   "codemirror_mode": {
    "name": "ipython",
    "version": 3
   },
   "file_extension": ".py",
   "mimetype": "text/x-python",
   "name": "python",
   "nbconvert_exporter": "python",
   "pygments_lexer": "ipython3",
   "version": "3.12.1"
  }
 },
 "nbformat": 4,
 "nbformat_minor": 5
}
