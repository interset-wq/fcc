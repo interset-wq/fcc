{
 "cells": [
  {
   "cell_type": "markdown",
   "id": "c0f71129",
   "metadata": {},
   "source": [
    "# Learn How to Work with Numbers and Strings by Implementing the Luhn Algorithm 通过卢恩算法学习字符串的切片\n",
    "\n",
    "The Luhn Algorithm is widely used for error-checking in various applications, such as verifying credit card numbers. \n",
    "\n",
    "By building this project, you'll gain experience working with numerical computations and string manipulation.\n",
    "\n",
    "卢恩算法：\n",
    "\n",
    "1. 从右到左，序号（从1开始）是偶数的数乘以2，如果得到的数大于9，将这个数个位和十位相加\n",
    "2. 所有数字求和\n",
    "3. 如果总和是10的倍数，则有效；否则无效\n",
    "\n",
    "Assume an example of an account number \"7992739871\" that will have a check digit added, making it of the form 7992739871x:\n",
    "\n",
    "Account number      7   9  9  2  7  3  9   8  7  1  x\n",
    "Double every other  7  18  9  4  7  6  9  16  7  2  x\n",
    "Sum 2-char digits   7   9  9  4  7  6  9   7  7  2  x\n",
    "\n",
    "## `<class 'str'>`\n",
    "\n",
    "### .maketrans\n",
    "\n",
    "用法类似于正则表达式，通过设定规则替换字符：\n",
    "\n",
    "1. 设定替换规则 `translation_table = str.maketrans({'t': 'c', 'l': 'b'})`\n",
    "2. 对str对象调用 `my_string.translate(translation_table)`\n",
    "\n",
    "Python comes with built-in classes that can help us with string manipulation. One of them is the str class. It has a method called maketrans that can help us create a translation table. This table can be used to replace characters in a string:\n",
    "\n",
    "    str.maketrans({'t': 'c', 'l': 'b'})\n",
    "\n",
    "view it as a bulit-in function.\n",
    "\n",
    "The above, when called on a string, will replace all t characters with c and all l characters with b.\n",
    "\n",
    "Defining the translation does not in itself translate the string. The translate method must be called on the string to be translated with the translation table as an argument:\n",
    "\n",
    "    my_string = \"tamperlot\"\n",
    "    translation_table = str.maketrans({'t': 'c', 'l': 'b'})\n",
    "    translated_string = my_string.translate(translation_table)\n",
    "\n",
    "### slice 切片\n",
    "\n",
    "You have accessed elements (characters) of a string before, using the index operator `[]`. You can also use the index operator to access a range of characters in a string with `string[start:stop:step]`:\n",
    "\n",
    "    my_string = 'camperbot'\n",
    "    my_string[0:6] == 'camper' # True\n",
    "    my_string[0:6:3] == 'cp' # True\n",
    "\n",
    "Where start is the starting index (inclusive), stop is the ending index (exclusive), and step is the amount of characters to skip over. If not specified, step is default to 1."
   ]
  }
 ],
 "metadata": {
  "language_info": {
   "name": "python"
  }
 },
 "nbformat": 4,
 "nbformat_minor": 5
}
