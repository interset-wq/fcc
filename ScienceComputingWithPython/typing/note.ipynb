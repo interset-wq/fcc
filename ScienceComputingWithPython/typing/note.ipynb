{
 "cells": [
  {
   "cell_type": "markdown",
   "id": "163e034e",
   "metadata": {},
   "source": [
    "# 类型注解\n",
    "\n",
    "- [typing官方文档](https://docs.python.org/zh-cn/3/library/typing.html)\n",
    "- [mypy官方文档](https://mypy.readthedocs.io/en/stable/cheat_sheet_py3.html)\n",
    "\n",
    "有助于vscode，pycharm的代码提示。"
   ]
  }
 ],
 "metadata": {
  "language_info": {
   "name": "python"
  }
 },
 "nbformat": 4,
 "nbformat_minor": 5
}
